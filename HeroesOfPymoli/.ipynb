{
 "cells": [
  {
   "cell_type": "code",
   "execution_count": null,
   "metadata": {},
   "outputs": [],
   "source": [
    "#import dependencies\n",
    "import pandas as pd\n",
    "import os"
   ]
  },
  {
   "cell_type": "code",
   "execution_count": null,
   "metadata": {},
   "outputs": [],
   "source": [
    "#import csv into a df for use with Pandas\n",
    "filepath = os.path.join(\"Resources\",\"purchase_data.csv\")\n",
    "sourcedf = pd.read_csv(filepath, encoding = \"UTF-8\")"
   ]
  },
  {
   "cell_type": "code",
   "execution_count": null,
   "metadata": {},
   "outputs": [],
   "source": [
    "#review dataset\n",
    "#see overview\n",
    "sourcedf"
   ]
  },
  {
   "cell_type": "code",
   "execution_count": null,
   "metadata": {},
   "outputs": [],
   "source": [
    "#list all columns\n",
    "sourcedf.columns"
   ]
  },
  {
   "cell_type": "code",
   "execution_count": null,
   "metadata": {},
   "outputs": [],
   "source": [
    "#list data types per column\n",
    "sourcedf.dtypes"
   ]
  },
  {
   "cell_type": "code",
   "execution_count": null,
   "metadata": {},
   "outputs": [],
   "source": [
    "#Check for null values\n",
    "sourcedf.count()"
   ]
  },
  {
   "cell_type": "code",
   "execution_count": null,
   "metadata": {},
   "outputs": [],
   "source": [
    "#Look to see if consolidation is necessary in \"Gender\" values\n",
    "genderList = sourcedf[\"Gender\"].unique()\n",
    "genderList\n",
    "#Confirmed that all values are exclusive of each other"
   ]
  },
  {
   "cell_type": "code",
   "execution_count": null,
   "metadata": {},
   "outputs": [],
   "source": [
    "#Data review: \n",
    "    #780 rows × 7 columns\n",
    "    #Source data is a register of transactions. Each row is a uniqe transaction \n",
    "    #Unique player IDs are in col \"SN\"\n",
    "    #Purchase ID column matches index no.\n",
    "    #No null values present\n",
    "    #All data types OK\n",
    "    #No extraneous label values in \"Gender\"\n",
    "#OK to proceed to calculations"
   ]
  },
  {
   "cell_type": "code",
   "execution_count": null,
   "metadata": {},
   "outputs": [],
   "source": [
    "#Player count\n",
    "#get count of all unique players. First store single value into variable\n",
    "playerCount = sourcedf[\"SN\"].nunique()\n",
    "#place variable into dataframe for display\n",
    "playerCountdf = pd.DataFrame({\"Total Players\":[playerCount]})\n",
    "playerCountdf"
   ]
  },
  {
   "cell_type": "code",
   "execution_count": null,
   "metadata": {},
   "outputs": [],
   "source": [
    "#Purchasing Analysis (Total)\n",
    "#Get all values first and assign to variables, then assign variables into dataframe\n",
    "#Get count of all unique items\n",
    "itemCount = sourcedf[\"Item ID\"].nunique()\n",
    "#Get average of Price column\n",
    "averagePurchPrice = sourcedf[\"Price\"].mean()\n",
    "#Get Total Number of Purchases as a row count of Purchase ID\n",
    "numberOfPurchases = sourcedf[\"Purchase ID\"].count()\n",
    "#Get Total Revenue as a sum of all values in Price\n",
    "totalRev = sourcedf[\"Price\"].sum()\n",
    "\n",
    "#place variables into dataframe\n",
    "purchSummary = pd.DataFrame({\"No. of Unique Items\":[itemCount], \n",
    "                             \"Avg. Purchase Price\":[averagePurchPrice],\n",
    "                             \"Total Number of Purchases\":[numberOfPurchases],\n",
    "                             \"Total Revenue\":[totalRev]\n",
    "                            })\n",
    "\n",
    "#Format as necessary with .map()\n",
    "purchSummary[\"Avg. Purchase Price\"]=purchSummary[\"Avg. Purchase Price\"].map(\"${:,.2f}\".format)\n",
    "purchSummary[\"Total Revenue\"]=purchSummary[\"Total Revenue\"].map(\"${:,.2f}\".format)\n",
    "#display summary dataframe\n",
    "purchSummary"
   ]
  },
  {
   "cell_type": "code",
   "execution_count": null,
   "metadata": {},
   "outputs": [],
   "source": [
    "#Gender Demographics\n",
    "#use playerCount for total player count\n",
    "\n",
    "#Percentage and Count of Male Players\n",
    "#find male players. Filter out male players players by gender\n",
    "malePlayersdf = sourcedf.loc[sourcedf[\"Gender\"] == \"Male\",\"SN\"]\n",
    "#Get unique count name of players\n",
    "malePlayersCount = malePlayersdf.nunique()\n",
    "#Get percentage of male players\n",
    "malePercentage = malePlayersCount/playerCount\n",
    "\n",
    "#Percentage and Count of Female Players\n",
    "#find female players. Filter out female players players by gender\n",
    "femalePlayersdf = sourcedf.loc[sourcedf[\"Gender\"] == \"Female\",\"SN\"]\n",
    "#Get unique count name of players\n",
    "femalePlayersCount = femalePlayersdf.nunique()\n",
    "#Get percentage of male players\n",
    "femalePercentage = femalePlayersCount/playerCount\n",
    "\n",
    "\n",
    "#Percentage and Count of Other / Non-Disclosed\n",
    "#find male players. Filter out male players players by gender\n",
    "otherPlayersdf = sourcedf.loc[sourcedf[\"Gender\"] == \"Other / Non-Disclosed\",\"SN\"]\n",
    "#Get unique count name of players\n",
    "otherPlayersCount = otherPlayersdf.nunique()\n",
    "#Get percentage of male players\n",
    "otherPercentage = otherPlayersCount/playerCount\n",
    "\n",
    "\n",
    "#Assemble summary table\n",
    "genderDemoSummary = pd.DataFrame({\"Total Count\":[malePlayersCount, femalePlayersCount, otherPlayersCount], \n",
    "                             \"Percentage of Players\":[malePercentage, femalePercentage, otherPercentage]\n",
    "                            })\n",
    "\n",
    "#Set index labels using list\n",
    "genderDemoSummary.index = [\"Male\",\"Female\",\"Other / Non-Disclosed\"]\n",
    "\n",
    "\n",
    "#format percentages\n",
    "#multiply by 100 to compensate for finding percentages from arithmetic\n",
    "genderDemoSummary[\"Percentage of Players\"] = genderDemoSummary[\"Percentage of Players\"] * 100\n",
    "#format\n",
    "genderDemoSummary[\"Percentage of Players\"] = genderDemoSummary[\"Percentage of Players\"].map(\"{:,.2f}%\".format)\n",
    "genderDemoSummary"
   ]
  },
  {
   "cell_type": "code",
   "execution_count": null,
   "metadata": {},
   "outputs": [],
   "source": [
    "#Purchasing Analysis (Gender)\n",
    "genderGroupdf= sourcedf.groupby([\"Gender\"])\n",
    "\n",
    "#Find Purchase Count with .count() on any col\n",
    "genderGroupCountdf = genderGroupdf[\"Purchase ID\"].count()\n",
    "\n",
    "#Average Purchase Price with .mean on \"Price\"\n",
    "genderGroupAvgdf = genderGroupdf[\"Price\"].mean()\n",
    "\n",
    "#Total Purchase Value with .sum on \"Price\"\n",
    "genderGroupSumdf = genderGroupdf[\"Price\"].sum()\n",
    "\n",
    "#Average Purchase Total per Person by Gender by dividing genderGroupSumdf series by unique player--\n",
    "#counts by gender\n",
    "genderAvgPerPersonByGenderdf = genderGroupSumdf/[femalePlayersCount, malePlayersCount, otherPlayersCount]\n",
    "\n",
    "#Create summary table\n",
    "purchAnalysisSummary = pd.DataFrame({\"Purchase Count\":genderGroupCountdf,\n",
    "                                     \"Avg Purchase Price\":genderGroupAvgdf,\n",
    "                                     \"Total Purchase Value\":genderGroupSumdf,\n",
    "                                     \"Avg Total Purchase per Person\":genderAvgPerPersonByGenderdf\n",
    "                            })\n",
    "#Format summary table\n",
    "purchAnalysisSummary[\"Avg Purchase Price\"] = purchAnalysisSummary[\"Avg Purchase Price\"].map(\"${:,.2f}\".format)\n",
    "purchAnalysisSummary[\"Total Purchase Value\"] = purchAnalysisSummary[\"Total Purchase Value\"].map(\"${:,.2f}\".format)\n",
    "purchAnalysisSummary[\"Avg Total Purchase per Person\"] = \\\n",
    "purchAnalysisSummary[\"Avg Total Purchase per Person\"].map(\"${:,.2f}\".format)\n",
    "\n",
    "#Display summary table\n",
    "purchAnalysisSummary\n"
   ]
  },
  {
   "cell_type": "code",
   "execution_count": null,
   "metadata": {},
   "outputs": [],
   "source": [
    "#Age Demographics\n",
    "#The below each broken into bins of 4 years (i.e. <10, 10-14, 15-19, etc.) \t\n",
    "    #find max age\n",
    "sourcedf[\"Age\"].max()\n",
    "\n",
    "\n"
   ]
  },
  {
   "cell_type": "code",
   "execution_count": null,
   "metadata": {},
   "outputs": [],
   "source": [
    "#set up bins\n",
    "binVals = [0, 9.999, 14, 19, 24, 29, 34, 39, 49]\n",
    "binLabels = [\"<10\", \"10-14\", \"15-19\", \"20-24\", \"25-29\", \"30-34\", \"35-39\", \"40+\"]\n",
    "\n",
    "#use .cut to break up into bins\n",
    "sourcedf[\"Age Ranges\"] = pd.cut(sourcedf[\"Age\"], binVals, labels = binLabels)\n",
    "\n",
    "#move Age Ranges to be the index\n",
    "sourcedfAgeIndex = sourcedf.set_index(\"Age Ranges\")\n",
    "\n",
    "#group by age\n",
    "sourcedfAgeIndexGroup= sourcedfAgeIndex.groupby([\"Age Ranges\"])\n",
    "\n",
    "#Find Purchase Count with .count() on Purchase ID\n",
    "sourcedfAgeIndexCount = sourcedfAgeIndexGroup[\"Purchase ID\"].count()\n",
    "\n",
    "#Find Average Purchase Price with .mean() on Price\n",
    "sourcedfAgeAvg = sourcedfAgeIndexGroup[\"Price\"].mean()    \n",
    "\n",
    "#Find Total Purchase Value with .sum() on Price\n",
    "sourcedfAgeSum = sourcedfAgeIndexGroup[\"Price\"].sum()\n",
    "\n",
    "#Average Purchase Total per Person by Age Group by dividing genderGroupSumdf series by number of unique--\n",
    "#buyers per age group\n",
    "#Find unique SN's per age group\n",
    "sourcedfAgeUniques = sourcedfAgeIndexGroup[\"SN\"].nunique()\n",
    "avgPurchaseTotalAge = sourcedfAgeSum/sourcedfAgeUniques\n",
    "\n",
    "#Create summary table\n",
    "ageSummary = pd.DataFrame({\"Purchase Count\":sourcedfAgeIndexCount,\n",
    "                                     \"Avg Purchase Price\":sourcedfAgeAvg,\n",
    "                                     \"Total Purchase Value\":sourcedfAgeSum,\n",
    "                                     \"Avg Total Purchase per Person\":avgPurchaseTotalAge\n",
    "                            })\n",
    "#Format summary table\n",
    "ageSummary[\"Avg Purchase Price\"] = ageSummary[\"Avg Purchase Price\"].map(\"${:,.2f}\".format)\n",
    "ageSummary[\"Total Purchase Value\"] = ageSummary[\"Total Purchase Value\"].map(\"${:,.2f}\".format)\n",
    "ageSummary[\"Avg Total Purchase per Person\"] = \\\n",
    "ageSummary[\"Avg Total Purchase per Person\"].map(\"${:,.2f}\".format)\n",
    "\n",
    "#Display summary table\n",
    "ageSummary\n",
    "\n",
    "\n"
   ]
  },
  {
   "cell_type": "code",
   "execution_count": null,
   "metadata": {
    "scrolled": false
   },
   "outputs": [],
   "source": [
    "#Top Spenders\n",
    "\n",
    "#Group transactions by purchaser\n",
    "playerGroup = sourcedf.groupby([\"SN\"])\n",
    "\n",
    "#Find Purchase Count with .count\n",
    "playerGroupCount = playerGroup[\"Purchase ID\"].count()\n",
    "\n",
    "#Find Average purchase price with .mean \"Price\"\n",
    "playerGroupAvg = playerGroup[\"Price\"].mean()\n",
    "\n",
    "#Find Total Purchased for each player with .sum on \"Price\"\n",
    "playerGroupSum = playerGroup[\"Price\"].sum()\n",
    "\n",
    "\n",
    "\n",
    "#build Summary table\n",
    "#Create summary table\n",
    "playerSummary = pd.DataFrame({\"Purchase Count\":playerGroupCount,\n",
    "                                     \"Avg Purchase Price\":playerGroupAvg,\n",
    "                                     \"Total Purchase Value\":playerGroupSum\n",
    "                            })\n",
    "playerSummary\n",
    "#Format summary table\n",
    "#playerSummary[\"Avg Purchase Price\"] = playerSummary[\"Avg Purchase Price\"].map(\"${:.2f}\".format)\n",
    "#playerSummary[\"Total Purchase Value\"] = playerSummary[\"Total Purchase Value\"].map(\"${:.2f}\".format)\n",
    "\n",
    "\n",
    "#Get the top 5 spenders\n",
    "#Sort by decreasing by \"\" with .sort_values\n",
    "sortPlayerSummary = playerSummary.sort_values(\"Total Purchase Value\", ascending=False)\n",
    "#sortPlayerSummary\n",
    "sortPlayerSummary\n",
    "#Re-index\n",
    "#pull first 5 with .iloc"
   ]
  },
  {
   "cell_type": "code",
   "execution_count": null,
   "metadata": {},
   "outputs": [],
   "source": [
    "#Most Popular Items\n",
    "\n",
    "#Group transactions by Item ID\n",
    "itemGroup = sourcedf.groupby([\"Item ID\"])\n",
    "\n",
    "#Find Purchase Count with .count\n",
    "itemGroupCount = itemGroup[\"Purchase ID\"].count()\n",
    "\n",
    "#Find Average purchase price with .mean \"Price\"\n",
    "itemGroupAvg = itemGroup[\"Price\"].mean()\n",
    "\n",
    "#Find Total Purchased for each player with .sum on \"Price\"\n",
    "playerGroupSum = itemGroup[\"Price\"].sum()\n",
    "\n",
    "\n",
    "\n",
    "#build Summary table\n",
    "#Create summary table\n",
    "playerSummary = pd.DataFrame({\"Purchase Count\":playerGroupCount,\n",
    "                                     \"Avg Purchase Price\":playerGroupAvg,\n",
    "                                     \"Total Purchase Value\":playerGroupSum\n",
    "                            })\n",
    "\n",
    "#Format summary table\n",
    "playerSummary[\"Avg Purchase Price\"] = playerSummary[\"Avg Purchase Price\"].map(\"${:,.2f}\".format)\n",
    "playerSummary[\"Total Purchase Value\"] = playerSummary[\"Total Purchase Value\"].map(\"${:,.2f}\".format)\n",
    "\n",
    "\n",
    "#Get the top 5 spenders\n",
    "#Sort by decreasing by \"\" with .sort_values\n",
    "sortPlayerSummary = playerSummary.sort_values(\"Total Purchase Value\", ascending=False)\n",
    "sortPlayerSummary\n",
    "#sortPlayerSummary\n",
    "\n",
    "#Re-index\n",
    "#pull first 5 with .iloc\n",
    "\n"
   ]
  },
  {
   "cell_type": "code",
   "execution_count": null,
   "metadata": {},
   "outputs": [],
   "source": [
    "\n",
    "#Most Profitable Items\n"
   ]
  },
  {
   "cell_type": "code",
   "execution_count": null,
   "metadata": {},
   "outputs": [],
   "source": []
  },
  {
   "cell_type": "code",
   "execution_count": null,
   "metadata": {},
   "outputs": [],
   "source": []
  },
  {
   "cell_type": "code",
   "execution_count": null,
   "metadata": {},
   "outputs": [],
   "source": [
    "\n",
    "\n"
   ]
  },
  {
   "cell_type": "code",
   "execution_count": null,
   "metadata": {},
   "outputs": [],
   "source": []
  }
 ],
 "metadata": {
  "kernelspec": {
   "display_name": "Python 3",
   "language": "python",
   "name": "python3"
  },
  "language_info": {
   "codemirror_mode": {
    "name": "ipython",
    "version": 3
   },
   "file_extension": ".py",
   "mimetype": "text/x-python",
   "name": "python",
   "nbconvert_exporter": "python",
   "pygments_lexer": "ipython3",
   "version": "3.6.10"
  }
 },
 "nbformat": 4,
 "nbformat_minor": 4
}
